{
 "cells": [
  {
   "cell_type": "code",
   "execution_count": 16,
   "id": "a71298fe-eb2c-4dd8-b0ef-610274660552",
   "metadata": {},
   "outputs": [],
   "source": [
    "import numpy as np\n",
    "import pandas as pd\n",
    "import matplotlib.pyplot as plt\n",
    "import seaborn as sns\n",
    "from encodings.aliases import aliases\n",
    "%matplotlib inline"
   ]
  },
  {
   "cell_type": "code",
   "execution_count": 26,
   "id": "576a4fd8-300c-47f8-80be-7ebdc77b75c1",
   "metadata": {},
   "outputs": [
    {
     "name": "stdout",
     "output_type": "stream",
     "text": [
      "Successful cp864\n",
      "Successful cp869\n",
      "Successful mac_cyrillic\n",
      "Successful cp1258\n",
      "Successful mac_greek\n",
      "Successful latin_1\n",
      "Successful cp1257\n",
      "Successful iso8859_6\n",
      "Successful mbcs\n",
      "Successful big5hkscs\n",
      "Successful cp855\n",
      "Successful iso8859_3\n",
      "Successful cp866\n",
      "Successful iso8859_14\n",
      "Successful cp862\n",
      "Successful ptcp154\n",
      "Successful iso8859_8\n",
      "Successful mac_iceland\n",
      "Successful cp273\n",
      "Successful mac_latin2\n",
      "Successful utf_16_le\n",
      "Successful cp1254\n",
      "Successful gbk\n",
      "Successful cp949\n",
      "Successful cp037\n",
      "Successful cp850\n",
      "Successful mac_turkish\n",
      "Successful cp1252\n",
      "Successful cp1251\n",
      "Successful cp1256\n",
      "Successful cp858\n",
      "Successful cp437\n",
      "Successful mac_roman\n",
      "Successful kz1048\n",
      "Successful cp932\n",
      "Successful cp775\n",
      "Successful cp1140\n",
      "Successful cp1253\n",
      "Successful iso8859_11\n",
      "Successful iso8859_7\n",
      "Successful hp_roman8\n",
      "Successful iso8859_5\n",
      "Successful iso8859_2\n",
      "Successful utf_16_be\n",
      "Successful iso8859_13\n",
      "Successful cp861\n",
      "Successful cp1255\n",
      "Successful cp852\n",
      "Successful cp1125\n",
      "Successful cp865\n",
      "Successful cp500\n",
      "Successful cp860\n",
      "Successful iso8859_15\n",
      "Successful iso8859_4\n",
      "Successful iso8859_9\n",
      "Successful iso8859_16\n",
      "Successful cp1250\n",
      "Successful iso8859_10\n",
      "Successful cp857\n",
      "Successful koi8_r\n",
      "Successful cp1026\n",
      "Successful cp863\n",
      "Successful gb18030\n"
     ]
    }
   ],
   "source": [
    "alias_values=set(aliases.values())\n",
    "for encoding in set(aliases.values()):\n",
    "    try:\n",
    "        df=pd.read_csv(\"crime.csv\",nrows=10,encoding=encoding)\n",
    "        print(\"Successful\",encoding)\n",
    "    except:\n",
    "        pass"
   ]
  },
  {
   "cell_type": "code",
   "execution_count": 32,
   "id": "bd3526e2-87c9-4ecb-8894-ef96046c704b",
   "metadata": {},
   "outputs": [],
   "source": [
    "crime = pd.read_csv(\"crime.csv\",encoding='ISO-8859-11')"
   ]
  },
  {
   "cell_type": "code",
   "execution_count": 36,
   "id": "66eea468-aaa3-471b-9c9f-26d8eaa7eaeb",
   "metadata": {},
   "outputs": [
    {
     "data": {
      "text/html": [
       "<div>\n",
       "<style scoped>\n",
       "    .dataframe tbody tr th:only-of-type {\n",
       "        vertical-align: middle;\n",
       "    }\n",
       "\n",
       "    .dataframe tbody tr th {\n",
       "        vertical-align: top;\n",
       "    }\n",
       "\n",
       "    .dataframe thead th {\n",
       "        text-align: right;\n",
       "    }\n",
       "</style>\n",
       "<table border=\"1\" class=\"dataframe\">\n",
       "  <thead>\n",
       "    <tr style=\"text-align: right;\">\n",
       "      <th></th>\n",
       "      <th>INCIDENT_NUMBER</th>\n",
       "      <th>OFFENSE_CODE</th>\n",
       "      <th>OFFENSE_CODE_GROUP</th>\n",
       "      <th>OFFENSE_DESCRIPTION</th>\n",
       "      <th>DISTRICT</th>\n",
       "      <th>REPORTING_AREA</th>\n",
       "      <th>SHOOTING</th>\n",
       "      <th>OCCURRED_ON_DATE</th>\n",
       "      <th>YEAR</th>\n",
       "      <th>MONTH</th>\n",
       "      <th>DAY_OF_WEEK</th>\n",
       "      <th>HOUR</th>\n",
       "      <th>UCR_PART</th>\n",
       "      <th>STREET</th>\n",
       "      <th>Lat</th>\n",
       "      <th>Long</th>\n",
       "      <th>Location</th>\n",
       "    </tr>\n",
       "  </thead>\n",
       "  <tbody>\n",
       "    <tr>\n",
       "      <th>0</th>\n",
       "      <td>I182070945</td>\n",
       "      <td>619</td>\n",
       "      <td>Larceny</td>\n",
       "      <td>LARCENY ALL OTHERS</td>\n",
       "      <td>D14</td>\n",
       "      <td>808</td>\n",
       "      <td>NaN</td>\n",
       "      <td>2018-09-02 13:00:00</td>\n",
       "      <td>2018</td>\n",
       "      <td>9</td>\n",
       "      <td>Sunday</td>\n",
       "      <td>13</td>\n",
       "      <td>Part One</td>\n",
       "      <td>LINCOLN ST</td>\n",
       "      <td>42.357791</td>\n",
       "      <td>-71.139371</td>\n",
       "      <td>(42.35779134, -71.13937053)</td>\n",
       "    </tr>\n",
       "    <tr>\n",
       "      <th>1</th>\n",
       "      <td>I182070943</td>\n",
       "      <td>1402</td>\n",
       "      <td>Vandalism</td>\n",
       "      <td>VANDALISM</td>\n",
       "      <td>C11</td>\n",
       "      <td>347</td>\n",
       "      <td>NaN</td>\n",
       "      <td>2018-08-21 00:00:00</td>\n",
       "      <td>2018</td>\n",
       "      <td>8</td>\n",
       "      <td>Tuesday</td>\n",
       "      <td>0</td>\n",
       "      <td>Part Two</td>\n",
       "      <td>HECLA ST</td>\n",
       "      <td>42.306821</td>\n",
       "      <td>-71.060300</td>\n",
       "      <td>(42.30682138, -71.06030035)</td>\n",
       "    </tr>\n",
       "    <tr>\n",
       "      <th>2</th>\n",
       "      <td>I182070941</td>\n",
       "      <td>3410</td>\n",
       "      <td>Towed</td>\n",
       "      <td>TOWED MOTOR VEHICLE</td>\n",
       "      <td>D4</td>\n",
       "      <td>151</td>\n",
       "      <td>NaN</td>\n",
       "      <td>2018-09-03 19:27:00</td>\n",
       "      <td>2018</td>\n",
       "      <td>9</td>\n",
       "      <td>Monday</td>\n",
       "      <td>19</td>\n",
       "      <td>Part Three</td>\n",
       "      <td>CAZENOVE ST</td>\n",
       "      <td>42.346589</td>\n",
       "      <td>-71.072429</td>\n",
       "      <td>(42.34658879, -71.07242943)</td>\n",
       "    </tr>\n",
       "    <tr>\n",
       "      <th>3</th>\n",
       "      <td>I182070940</td>\n",
       "      <td>3114</td>\n",
       "      <td>Investigate Property</td>\n",
       "      <td>INVESTIGATE PROPERTY</td>\n",
       "      <td>D4</td>\n",
       "      <td>272</td>\n",
       "      <td>NaN</td>\n",
       "      <td>2018-09-03 21:16:00</td>\n",
       "      <td>2018</td>\n",
       "      <td>9</td>\n",
       "      <td>Monday</td>\n",
       "      <td>21</td>\n",
       "      <td>Part Three</td>\n",
       "      <td>NEWCOMB ST</td>\n",
       "      <td>42.334182</td>\n",
       "      <td>-71.078664</td>\n",
       "      <td>(42.33418175, -71.07866441)</td>\n",
       "    </tr>\n",
       "    <tr>\n",
       "      <th>4</th>\n",
       "      <td>I182070938</td>\n",
       "      <td>3114</td>\n",
       "      <td>Investigate Property</td>\n",
       "      <td>INVESTIGATE PROPERTY</td>\n",
       "      <td>B3</td>\n",
       "      <td>421</td>\n",
       "      <td>NaN</td>\n",
       "      <td>2018-09-03 21:05:00</td>\n",
       "      <td>2018</td>\n",
       "      <td>9</td>\n",
       "      <td>Monday</td>\n",
       "      <td>21</td>\n",
       "      <td>Part Three</td>\n",
       "      <td>DELHI ST</td>\n",
       "      <td>42.275365</td>\n",
       "      <td>-71.090361</td>\n",
       "      <td>(42.27536542, -71.09036101)</td>\n",
       "    </tr>\n",
       "  </tbody>\n",
       "</table>\n",
       "</div>"
      ],
      "text/plain": [
       "  INCIDENT_NUMBER  OFFENSE_CODE    OFFENSE_CODE_GROUP   OFFENSE_DESCRIPTION  \\\n",
       "0      I182070945           619               Larceny    LARCENY ALL OTHERS   \n",
       "1      I182070943          1402             Vandalism             VANDALISM   \n",
       "2      I182070941          3410                 Towed   TOWED MOTOR VEHICLE   \n",
       "3      I182070940          3114  Investigate Property  INVESTIGATE PROPERTY   \n",
       "4      I182070938          3114  Investigate Property  INVESTIGATE PROPERTY   \n",
       "\n",
       "  DISTRICT REPORTING_AREA SHOOTING     OCCURRED_ON_DATE  YEAR  MONTH  \\\n",
       "0      D14            808      NaN  2018-09-02 13:00:00  2018      9   \n",
       "1      C11            347      NaN  2018-08-21 00:00:00  2018      8   \n",
       "2       D4            151      NaN  2018-09-03 19:27:00  2018      9   \n",
       "3       D4            272      NaN  2018-09-03 21:16:00  2018      9   \n",
       "4       B3            421      NaN  2018-09-03 21:05:00  2018      9   \n",
       "\n",
       "  DAY_OF_WEEK  HOUR    UCR_PART       STREET        Lat       Long  \\\n",
       "0      Sunday    13    Part One   LINCOLN ST  42.357791 -71.139371   \n",
       "1     Tuesday     0    Part Two     HECLA ST  42.306821 -71.060300   \n",
       "2      Monday    19  Part Three  CAZENOVE ST  42.346589 -71.072429   \n",
       "3      Monday    21  Part Three   NEWCOMB ST  42.334182 -71.078664   \n",
       "4      Monday    21  Part Three     DELHI ST  42.275365 -71.090361   \n",
       "\n",
       "                      Location  \n",
       "0  (42.35779134, -71.13937053)  \n",
       "1  (42.30682138, -71.06030035)  \n",
       "2  (42.34658879, -71.07242943)  \n",
       "3  (42.33418175, -71.07866441)  \n",
       "4  (42.27536542, -71.09036101)  "
      ]
     },
     "execution_count": 36,
     "metadata": {},
     "output_type": "execute_result"
    }
   ],
   "source": [
    "crime.head()"
   ]
  },
  {
   "cell_type": "code",
   "execution_count": 42,
   "id": "233a4680-bab7-46e6-9989-eea27b306dd4",
   "metadata": {},
   "outputs": [
    {
     "data": {
      "text/plain": [
       "(319073, 17)"
      ]
     },
     "execution_count": 42,
     "metadata": {},
     "output_type": "execute_result"
    }
   ],
   "source": [
    "crime.shape"
   ]
  },
  {
   "cell_type": "code",
   "execution_count": 52,
   "id": "f0629cbc-5bb6-4ea8-afe3-2e4e40a3af1a",
   "metadata": {},
   "outputs": [
    {
     "data": {
      "text/plain": [
       "0"
      ]
     },
     "execution_count": 52,
     "metadata": {},
     "output_type": "execute_result"
    }
   ],
   "source": [
    "crime.duplicated().sum()"
   ]
  },
  {
   "cell_type": "code",
   "execution_count": 54,
   "id": "77b3be48-a03d-4506-bee4-c012ffe1d6ee",
   "metadata": {},
   "outputs": [],
   "source": [
    "crime.drop_duplicates(inplace=True)"
   ]
  },
  {
   "cell_type": "code",
   "execution_count": 58,
   "id": "9a642f12-a502-474e-9e04-f67013f671f6",
   "metadata": {},
   "outputs": [
    {
     "name": "stdout",
     "output_type": "stream",
     "text": [
      "<class 'pandas.core.frame.DataFrame'>\n",
      "Index: 319050 entries, 0 to 319072\n",
      "Data columns (total 17 columns):\n",
      " #   Column               Non-Null Count   Dtype  \n",
      "---  ------               --------------   -----  \n",
      " 0   INCIDENT_NUMBER      319050 non-null  object \n",
      " 1   OFFENSE_CODE         319050 non-null  int64  \n",
      " 2   OFFENSE_CODE_GROUP   319050 non-null  object \n",
      " 3   OFFENSE_DESCRIPTION  319050 non-null  object \n",
      " 4   DISTRICT             317285 non-null  object \n",
      " 5   REPORTING_AREA       319050 non-null  object \n",
      " 6   SHOOTING             1019 non-null    object \n",
      " 7   OCCURRED_ON_DATE     319050 non-null  object \n",
      " 8   YEAR                 319050 non-null  int64  \n",
      " 9   MONTH                319050 non-null  int64  \n",
      " 10  DAY_OF_WEEK          319050 non-null  object \n",
      " 11  HOUR                 319050 non-null  int64  \n",
      " 12  UCR_PART             318960 non-null  object \n",
      " 13  STREET               308179 non-null  object \n",
      " 14  Lat                  299052 non-null  float64\n",
      " 15  Long                 299052 non-null  float64\n",
      " 16  Location             319050 non-null  object \n",
      "dtypes: float64(2), int64(4), object(11)\n",
      "memory usage: 43.8+ MB\n"
     ]
    }
   ],
   "source": [
    "crime.info()"
   ]
  },
  {
   "cell_type": "code",
   "execution_count": 64,
   "id": "c6cb641d-0849-47b3-bd7e-d3caa5b3740c",
   "metadata": {},
   "outputs": [],
   "source": [
    "crime.OCCURRED_ON_DATE = pd.to_datetime(crime.OCCURRED_ON_DATE)"
   ]
  },
  {
   "cell_type": "code",
   "execution_count": 68,
   "id": "c72774cc-d014-4ba1-b755-6add15beb93f",
   "metadata": {},
   "outputs": [
    {
     "name": "stdout",
     "output_type": "stream",
     "text": [
      "<class 'pandas.core.frame.DataFrame'>\n",
      "Index: 319050 entries, 0 to 319072\n",
      "Data columns (total 17 columns):\n",
      " #   Column               Non-Null Count   Dtype         \n",
      "---  ------               --------------   -----         \n",
      " 0   INCIDENT_NUMBER      319050 non-null  object        \n",
      " 1   OFFENSE_CODE         319050 non-null  int64         \n",
      " 2   OFFENSE_CODE_GROUP   319050 non-null  object        \n",
      " 3   OFFENSE_DESCRIPTION  319050 non-null  object        \n",
      " 4   DISTRICT             317285 non-null  object        \n",
      " 5   REPORTING_AREA       319050 non-null  object        \n",
      " 6   SHOOTING             1019 non-null    object        \n",
      " 7   OCCURRED_ON_DATE     319050 non-null  datetime64[ns]\n",
      " 8   YEAR                 319050 non-null  int64         \n",
      " 9   MONTH                319050 non-null  int64         \n",
      " 10  DAY_OF_WEEK          319050 non-null  object        \n",
      " 11  HOUR                 319050 non-null  int64         \n",
      " 12  UCR_PART             318960 non-null  object        \n",
      " 13  STREET               308179 non-null  object        \n",
      " 14  Lat                  299052 non-null  float64       \n",
      " 15  Long                 299052 non-null  float64       \n",
      " 16  Location             319050 non-null  object        \n",
      "dtypes: datetime64[ns](1), float64(2), int64(4), object(10)\n",
      "memory usage: 43.8+ MB\n"
     ]
    }
   ],
   "source": [
    "crime.info()"
   ]
  },
  {
   "cell_type": "code",
   "execution_count": 80,
   "id": "96dc6f73-4320-4ad9-a155-3d139d727e36",
   "metadata": {},
   "outputs": [
    {
     "data": {
      "text/html": [
       "<div>\n",
       "<style scoped>\n",
       "    .dataframe tbody tr th:only-of-type {\n",
       "        vertical-align: middle;\n",
       "    }\n",
       "\n",
       "    .dataframe tbody tr th {\n",
       "        vertical-align: top;\n",
       "    }\n",
       "\n",
       "    .dataframe thead th {\n",
       "        text-align: right;\n",
       "    }\n",
       "</style>\n",
       "<table border=\"1\" class=\"dataframe\">\n",
       "  <thead>\n",
       "    <tr style=\"text-align: right;\">\n",
       "      <th></th>\n",
       "      <th>INCIDENT_NUMBER</th>\n",
       "      <th>OFFENSE_CODE_GROUP</th>\n",
       "      <th>OFFENSE_DESCRIPTION</th>\n",
       "      <th>DISTRICT</th>\n",
       "      <th>REPORTING_AREA</th>\n",
       "      <th>SHOOTING</th>\n",
       "      <th>DAY_OF_WEEK</th>\n",
       "      <th>UCR_PART</th>\n",
       "      <th>STREET</th>\n",
       "      <th>Location</th>\n",
       "    </tr>\n",
       "  </thead>\n",
       "  <tbody>\n",
       "    <tr>\n",
       "      <th>count</th>\n",
       "      <td>319050</td>\n",
       "      <td>319050</td>\n",
       "      <td>319050</td>\n",
       "      <td>317285</td>\n",
       "      <td>319050</td>\n",
       "      <td>1019</td>\n",
       "      <td>319050</td>\n",
       "      <td>318960</td>\n",
       "      <td>308179</td>\n",
       "      <td>319050</td>\n",
       "    </tr>\n",
       "    <tr>\n",
       "      <th>unique</th>\n",
       "      <td>282517</td>\n",
       "      <td>67</td>\n",
       "      <td>244</td>\n",
       "      <td>12</td>\n",
       "      <td>879</td>\n",
       "      <td>1</td>\n",
       "      <td>7</td>\n",
       "      <td>4</td>\n",
       "      <td>4657</td>\n",
       "      <td>18194</td>\n",
       "    </tr>\n",
       "    <tr>\n",
       "      <th>top</th>\n",
       "      <td>I162030584</td>\n",
       "      <td>Motor Vehicle Accident Response</td>\n",
       "      <td>SICK/INJURED/MEDICAL - PERSON</td>\n",
       "      <td>B2</td>\n",
       "      <td></td>\n",
       "      <td>Y</td>\n",
       "      <td>Friday</td>\n",
       "      <td>Part Three</td>\n",
       "      <td>WASHINGTON ST</td>\n",
       "      <td>(0.00000000, 0.00000000)</td>\n",
       "    </tr>\n",
       "    <tr>\n",
       "      <th>freq</th>\n",
       "      <td>13</td>\n",
       "      <td>37132</td>\n",
       "      <td>18783</td>\n",
       "      <td>49940</td>\n",
       "      <td>20250</td>\n",
       "      <td>1019</td>\n",
       "      <td>48489</td>\n",
       "      <td>158537</td>\n",
       "      <td>14192</td>\n",
       "      <td>19998</td>\n",
       "    </tr>\n",
       "  </tbody>\n",
       "</table>\n",
       "</div>"
      ],
      "text/plain": [
       "       INCIDENT_NUMBER               OFFENSE_CODE_GROUP  \\\n",
       "count           319050                           319050   \n",
       "unique          282517                               67   \n",
       "top         I162030584  Motor Vehicle Accident Response   \n",
       "freq                13                            37132   \n",
       "\n",
       "                  OFFENSE_DESCRIPTION DISTRICT REPORTING_AREA SHOOTING  \\\n",
       "count                          319050   317285         319050     1019   \n",
       "unique                            244       12            879        1   \n",
       "top     SICK/INJURED/MEDICAL - PERSON       B2                       Y   \n",
       "freq                            18783    49940          20250     1019   \n",
       "\n",
       "       DAY_OF_WEEK    UCR_PART         STREET                  Location  \n",
       "count       319050      318960         308179                    319050  \n",
       "unique           7           4           4657                     18194  \n",
       "top         Friday  Part Three  WASHINGTON ST  (0.00000000, 0.00000000)  \n",
       "freq         48489      158537          14192                     19998  "
      ]
     },
     "execution_count": 80,
     "metadata": {},
     "output_type": "execute_result"
    }
   ],
   "source": [
    "crime.describe(include='object')"
   ]
  },
  {
   "cell_type": "code",
   "execution_count": 90,
   "id": "e8e25458-f3df-454f-9e58-accfad072610",
   "metadata": {},
   "outputs": [
    {
     "name": "stderr",
     "output_type": "stream",
     "text": [
      "C:\\Users\\igorv\\anaconda3\\Lib\\site-packages\\numpy\\core\\fromnumeric.py:86: FutureWarning: The behavior of DataFrame.sum with axis=None is deprecated, in a future version this will reduce over both axes and return a scalar. To retain the old behavior, pass axis=0 (or do not pass axis)\n",
      "  return reduction(axis=axis, out=out, **passkwargs)\n"
     ]
    },
    {
     "data": {
      "text/plain": [
       "Index(['DISTRICT', 'SHOOTING', 'UCR_PART', 'STREET', 'Lat', 'Long'], dtype='object')"
      ]
     },
     "execution_count": 90,
     "metadata": {},
     "output_type": "execute_result"
    }
   ],
   "source": [
    "crime.columns[np.sum(crime.isnull())!=0]"
   ]
  },
  {
   "cell_type": "code",
   "execution_count": 94,
   "id": "4a62dd5c-1d55-4a10-8dd4-8bc7b4cafc67",
   "metadata": {},
   "outputs": [
    {
     "name": "stderr",
     "output_type": "stream",
     "text": [
      "C:\\Users\\igorv\\anaconda3\\Lib\\site-packages\\numpy\\core\\fromnumeric.py:86: FutureWarning: The behavior of DataFrame.sum with axis=None is deprecated, in a future version this will reduce over both axes and return a scalar. To retain the old behavior, pass axis=0 (or do not pass axis)\n",
      "  return reduction(axis=axis, out=out, **passkwargs)\n"
     ]
    },
    {
     "data": {
      "text/plain": [
       "Index(['INCIDENT_NUMBER', 'OFFENSE_CODE', 'OFFENSE_CODE_GROUP',\n",
       "       'OFFENSE_DESCRIPTION', 'REPORTING_AREA', 'OCCURRED_ON_DATE', 'YEAR',\n",
       "       'MONTH', 'DAY_OF_WEEK', 'HOUR', 'Location'],\n",
       "      dtype='object')"
      ]
     },
     "execution_count": 94,
     "metadata": {},
     "output_type": "execute_result"
    }
   ],
   "source": [
    "crime.columns[np.sum(crime.isnull())==0]"
   ]
  },
  {
   "cell_type": "code",
   "execution_count": 102,
   "id": "3fc33a91-dd19-4767-9ae7-3f57e43ec338",
   "metadata": {},
   "outputs": [
    {
     "name": "stdout",
     "output_type": "stream",
     "text": [
      "INCIDENT_NUMBER has 282517 unique values\n",
      "OFFENSE_CODE has 222 unique values\n",
      "OFFENSE_CODE_GROUP has 67 unique values\n",
      "OFFENSE_DESCRIPTION has 244 unique values\n",
      "DISTRICT has 12 unique values\n",
      "REPORTING_AREA has 879 unique values\n",
      "SHOOTING has 1 unique values\n",
      "OCCURRED_ON_DATE has 233229 unique values\n",
      "YEAR has 4 unique values\n",
      "MONTH has 12 unique values\n",
      "DAY_OF_WEEK has 7 unique values\n",
      "HOUR has 24 unique values\n",
      "UCR_PART has 4 unique values\n",
      "STREET has 4657 unique values\n",
      "Lat has 18178 unique values\n",
      "Long has 18178 unique values\n",
      "Location has 18194 unique values\n"
     ]
    }
   ],
   "source": [
    "for col in crime.columns:\n",
    "    unique_count = crime[col].nunique()\n",
    "    print(col+\" has \"+str(unique_count)+\" unique values\")"
   ]
  },
  {
   "cell_type": "code",
   "execution_count": 108,
   "id": "49dca597-362b-4900-9685-0e3dfc0d0395",
   "metadata": {},
   "outputs": [
    {
     "data": {
      "text/plain": [
       "OFFENSE_CODE_GROUP\n",
       "Motor Vehicle Accident Response              37132\n",
       "Larceny                                      25935\n",
       "Medical Assistance                           23540\n",
       "Investigate Person                           18749\n",
       "Other                                        18073\n",
       "                                             ...  \n",
       "HUMAN TRAFFICKING                                7\n",
       "INVESTIGATE PERSON                               4\n",
       "Biological Threat                                2\n",
       "HUMAN TRAFFICKING - INVOLUNTARY SERVITUDE        2\n",
       "Burglary - No Property Taken                     2\n",
       "Name: count, Length: 67, dtype: int64"
      ]
     },
     "execution_count": 108,
     "metadata": {},
     "output_type": "execute_result"
    }
   ],
   "source": [
    "crime.OFFENSE_CODE_GROUP.value_counts()"
   ]
  },
  {
   "cell_type": "code",
   "execution_count": 112,
   "id": "87915879-eda7-472b-ac55-7c0248e11b03",
   "metadata": {},
   "outputs": [
    {
     "data": {
      "text/plain": [
       "OFFENSE_CODE_GROUP\n",
       "Motor Vehicle Accident Response    37132\n",
       "Larceny                            25935\n",
       "Medical Assistance                 23540\n",
       "Investigate Person                 18749\n",
       "Other                              18073\n",
       "Drug Violation                     16545\n",
       "Simple Assault                     15826\n",
       "Vandalism                          15414\n",
       "Verbal Disputes                    13099\n",
       "Towed                              11287\n",
       "Name: count, dtype: int64"
      ]
     },
     "execution_count": 112,
     "metadata": {},
     "output_type": "execute_result"
    }
   ],
   "source": [
    "crime.OFFENSE_CODE_GROUP.value_counts()[:10]"
   ]
  },
  {
   "cell_type": "code",
   "execution_count": 120,
   "id": "693de357-163d-46e4-b7f9-118c27c3d266",
   "metadata": {},
   "outputs": [
    {
     "data": {
      "text/plain": [
       "OFFENSE_CODE_GROUP\n",
       "Motor Vehicle Accident Response    0.116383\n",
       "Larceny                            0.081288\n",
       "Medical Assistance                 0.073782\n",
       "Investigate Person                 0.058765\n",
       "Other                              0.056646\n",
       "Drug Violation                     0.051857\n",
       "Simple Assault                     0.049604\n",
       "Vandalism                          0.048312\n",
       "Verbal Disputes                    0.041056\n",
       "Towed                              0.035377\n",
       "Name: count, dtype: float64"
      ]
     },
     "metadata": {},
     "output_type": "display_data"
    },
    {
     "data": {
      "image/png": "[encoded data removed]",
      "text/plain": [
       "<Figure size 640x480 with 1 Axes>"
      ]
     },
     "metadata": {},
     "output_type": "display_data"
    }
   ],
   "source": [
    "offense_group_vals = crime.OFFENSE_CODE_GROUP.value_counts()[:10]\n",
    "display (offense_group_vals/crime.shape[0])\n",
    "\n",
    "(offense_group_vals/crime.shape[0]).plot(kind='bar');\n",
    "plt.title('Top 10 Offense Groups (as % of all crimes)');"
   ]
  },
  {
   "cell_type": "code",
   "execution_count": 124,
   "id": "f157d5c3-18b0-45a3-86bb-e22819daba86",
   "metadata": {},
   "outputs": [
    {
     "data": {
      "text/plain": [
       "OFFENSE_CODE_GROUP\n",
       "Burglary - No Property Taken                  2\n",
       "HUMAN TRAFFICKING - INVOLUNTARY SERVITUDE     2\n",
       "Biological Threat                             2\n",
       "INVESTIGATE PERSON                            4\n",
       "HUMAN TRAFFICKING                             7\n",
       "Gambling                                      8\n",
       "Manslaughter                                  8\n",
       "Explosives                                   27\n",
       "Phone Call Complaints                        31\n",
       "Aircraft                                     36\n",
       "Name: count, dtype: int64"
      ]
     },
     "execution_count": 124,
     "metadata": {},
     "output_type": "execute_result"
    }
   ],
   "source": [
    "crime.OFFENSE_CODE_GROUP.value_counts().sort_values(ascending=True)[:10]"
   ]
  },
  {
   "cell_type": "code",
   "execution_count": 132,
   "id": "84339949-08c1-4716-ae94-52a723374878",
   "metadata": {},
   "outputs": [
    {
     "data": {
      "text/plain": [
       "OFFENSE_DESCRIPTION\n",
       "SICK/INJURED/MEDICAL - PERSON            18783\n",
       "INVESTIGATE PERSON                       18753\n",
       "M/V - LEAVING SCENE - PROPERTY DAMAGE    16323\n",
       "VANDALISM                                15153\n",
       "ASSAULT SIMPLE - BATTERY                 14791\n",
       "VERBAL DISPUTE                           13099\n",
       "TOWED MOTOR VEHICLE                      11287\n",
       "INVESTIGATE PROPERTY                     11124\n",
       "LARCENY THEFT FROM BUILDING               9069\n",
       "THREATS TO DO BODILY HARM                 9042\n",
       "Name: count, dtype: int64"
      ]
     },
     "execution_count": 132,
     "metadata": {},
     "output_type": "execute_result"
    }
   ],
   "source": [
    "crime.OFFENSE_DESCRIPTION.value_counts().sort_values(ascending=False)[:10]"
   ]
  },
  {
   "cell_type": "code",
   "execution_count": 140,
   "id": "78b529ee-4871-4b4a-800b-a0e86f0f66f1",
   "metadata": {},
   "outputs": [
    {
     "data": {
      "text/plain": [
       "OFFENSE_DESCRIPTION\n",
       "SICK/INJURED/MEDICAL - PERSON            0.058872\n",
       "INVESTIGATE PERSON                       0.058778\n",
       "M/V - LEAVING SCENE - PROPERTY DAMAGE    0.051161\n",
       "VANDALISM                                0.047494\n",
       "ASSAULT SIMPLE - BATTERY                 0.046360\n",
       "VERBAL DISPUTE                           0.041056\n",
       "TOWED MOTOR VEHICLE                      0.035377\n",
       "INVESTIGATE PROPERTY                     0.034866\n",
       "LARCENY THEFT FROM BUILDING              0.028425\n",
       "THREATS TO DO BODILY HARM                0.028340\n",
       "Name: count, dtype: float64"
      ]
     },
     "metadata": {},
     "output_type": "display_data"
    }
   ],
   "source": [
    "offense_description_vals = crime.OFFENSE_DESCRIPTION.value_counts()[:10]\n",
    "display(offense_description_vals/crime.shape[0])"
   ]
  },
  {
   "cell_type": "code",
   "execution_count": 146,
   "id": "daddce83-1544-4359-bc79-ae62c3403d3f",
   "metadata": {},
   "outputs": [
    {
     "data": {
      "image/png": "[encoded data removed]",
      "text/plain": [
       "<Figure size 640x480 with 1 Axes>"
      ]
     },
     "metadata": {},
     "output_type": "display_data"
    }
   ],
   "source": [
    "crime.groupby('YEAR').count()['INCIDENT_NUMBER'].plot(kind='bar');\n",
    "plt.title('Number of Crimes');"
   ]
  },
  {
   "cell_type": "code",
   "execution_count": 154,
   "id": "cab6c7dd-2667-445c-acc5-d91875e97eaf",
   "metadata": {},
   "outputs": [
    {
     "data": {
      "text/plain": [
       "<Axes: xlabel='DAY_OF_WEEK'>"
      ]
     },
     "execution_count": 154,
     "metadata": {},
     "output_type": "execute_result"
    },
    {
     "data": {
      "image/png": "[encoded data removed]",
      "text/plain": [
       "<Figure size 640x480 with 1 Axes>"
      ]
     },
     "metadata": {},
     "output_type": "display_data"
    }
   ],
   "source": [
    "crime.groupby('DAY_OF_WEEK').count()['INCIDENT_NUMBER'].plot(kind='bar')"
   ]
  },
  {
   "cell_type": "code",
   "execution_count": 156,
   "id": "ae3de5bd-6dce-4a7b-adac-4a39f55813c3",
   "metadata": {},
   "outputs": [
    {
     "data": {
      "text/plain": [
       "<Axes: xlabel='HOUR'>"
      ]
     },
     "execution_count": 156,
     "metadata": {},
     "output_type": "execute_result"
    },
    {
     "data": {
      "image/png": "[encoded data removed]",
      "text/plain": [
       "<Figure size 640x480 with 1 Axes>"
      ]
     },
     "metadata": {},
     "output_type": "display_data"
    }
   ],
   "source": [
    "crime.groupby('HOUR').count()['INCIDENT_NUMBER'].plot(kind='bar')"
   ]
  },
  {
   "cell_type": "code",
   "execution_count": 166,
   "id": "e47930c5-fa43-4edf-92fe-0503430875ae",
   "metadata": {},
   "outputs": [
    {
     "data": {
      "image/png": "[encoded data removed]",
      "text/plain": [
       "<Figure size 640x480 with 2 Axes>"
      ]
     },
     "metadata": {},
     "output_type": "display_data"
    }
   ],
   "source": [
    "week_and_hour=crime.groupby(['HOUR','DAY_OF_WEEK']).count()['INCIDENT_NUMBER'].unstack()\n",
    "week_and_hour.columns=['Monday','Tuesday','Wednesday','Thursday','Friday','Saturday','Sunday']\n",
    "sns.heatmap(week_and_hour,cmap=sns.cubehelix_palette(as_cmap=True));"
   ]
  },
  {
   "cell_type": "code",
   "execution_count": 176,
   "id": "61e184fc-58e7-49fb-9ae1-36a009c84023",
   "metadata": {},
   "outputs": [
    {
     "name": "stdout",
     "output_type": "stream",
     "text": [
      "The average number of crimes is 7976.25\n"
     ]
    },
    {
     "name": "stderr",
     "output_type": "stream",
     "text": [
      "C:\\Users\\igorv\\AppData\\Local\\Temp\\ipykernel_1896\\3806019522.py:8: FutureWarning: Styler.applymap has been deprecated. Use Styler.map instead.\n",
      "  s2 = year_and_month.style.applymap(style_negative,props='color:blue;')\\\n",
      "C:\\Users\\igorv\\AppData\\Local\\Temp\\ipykernel_1896\\3806019522.py:9: FutureWarning: Styler.applymap has been deprecated. Use Styler.map instead.\n",
      "  .applymap(lambda v:'opacity:20%' if(v<0.3)and(v>-0.3)else None)\n"
     ]
    },
    {
     "data": {
      "text/html": [
       "<style type=\"text/css\">\n",
       "#T_fa49e_row0_col1, #T_fa49e_row0_col3, #T_fa49e_row1_col1, #T_fa49e_row1_col2, #T_fa49e_row1_col3, #T_fa49e_row2_col3, #T_fa49e_row3_col3, #T_fa49e_row5_col0, #T_fa49e_row8_col3, #T_fa49e_row10_col0, #T_fa49e_row10_col1, #T_fa49e_row10_col2, #T_fa49e_row11_col1, #T_fa49e_row11_col2 {\n",
       "  color: blue;\n",
       "}\n",
       "</style>\n",
       "<table id=\"T_fa49e\">\n",
       "  <thead>\n",
       "    <tr>\n",
       "      <th class=\"index_name level0\" >YEAR</th>\n",
       "      <th id=\"T_fa49e_level0_col0\" class=\"col_heading level0 col0\" >2015</th>\n",
       "      <th id=\"T_fa49e_level0_col1\" class=\"col_heading level0 col1\" >2016</th>\n",
       "      <th id=\"T_fa49e_level0_col2\" class=\"col_heading level0 col2\" >2017</th>\n",
       "      <th id=\"T_fa49e_level0_col3\" class=\"col_heading level0 col3\" >2018</th>\n",
       "    </tr>\n",
       "    <tr>\n",
       "      <th class=\"index_name level0\" >MONTH</th>\n",
       "      <th class=\"blank col0\" >&nbsp;</th>\n",
       "      <th class=\"blank col1\" >&nbsp;</th>\n",
       "      <th class=\"blank col2\" >&nbsp;</th>\n",
       "      <th class=\"blank col3\" >&nbsp;</th>\n",
       "    </tr>\n",
       "  </thead>\n",
       "  <tbody>\n",
       "    <tr>\n",
       "      <th id=\"T_fa49e_level0_row0\" class=\"row_heading level0 row0\" >1</th>\n",
       "      <td id=\"T_fa49e_row0_col0\" class=\"data row0 col0\" >nan</td>\n",
       "      <td id=\"T_fa49e_row0_col1\" class=\"data row0 col1\" >7835.000000</td>\n",
       "      <td id=\"T_fa49e_row0_col2\" class=\"data row0 col2\" >7991.000000</td>\n",
       "      <td id=\"T_fa49e_row0_col3\" class=\"data row0 col3\" >7782.000000</td>\n",
       "    </tr>\n",
       "    <tr>\n",
       "      <th id=\"T_fa49e_level0_row1\" class=\"row_heading level0 row1\" >2</th>\n",
       "      <td id=\"T_fa49e_row1_col0\" class=\"data row1 col0\" >nan</td>\n",
       "      <td id=\"T_fa49e_row1_col1\" class=\"data row1 col1\" >7307.000000</td>\n",
       "      <td id=\"T_fa49e_row1_col2\" class=\"data row1 col2\" >7408.000000</td>\n",
       "      <td id=\"T_fa49e_row1_col3\" class=\"data row1 col3\" >6937.000000</td>\n",
       "    </tr>\n",
       "    <tr>\n",
       "      <th id=\"T_fa49e_level0_row2\" class=\"row_heading level0 row2\" >3</th>\n",
       "      <td id=\"T_fa49e_row2_col0\" class=\"data row2 col0\" >nan</td>\n",
       "      <td id=\"T_fa49e_row2_col1\" class=\"data row2 col1\" >8199.000000</td>\n",
       "      <td id=\"T_fa49e_row2_col2\" class=\"data row2 col2\" >8179.000000</td>\n",
       "      <td id=\"T_fa49e_row2_col3\" class=\"data row2 col3\" >7768.000000</td>\n",
       "    </tr>\n",
       "    <tr>\n",
       "      <th id=\"T_fa49e_level0_row3\" class=\"row_heading level0 row3\" >4</th>\n",
       "      <td id=\"T_fa49e_row3_col0\" class=\"data row3 col0\" >nan</td>\n",
       "      <td id=\"T_fa49e_row3_col1\" class=\"data row3 col1\" >8101.000000</td>\n",
       "      <td id=\"T_fa49e_row3_col2\" class=\"data row3 col2\" >8069.000000</td>\n",
       "      <td id=\"T_fa49e_row3_col3\" class=\"data row3 col3\" >7916.000000</td>\n",
       "    </tr>\n",
       "    <tr>\n",
       "      <th id=\"T_fa49e_level0_row4\" class=\"row_heading level0 row4\" >5</th>\n",
       "      <td id=\"T_fa49e_row4_col0\" class=\"data row4 col0\" >nan</td>\n",
       "      <td id=\"T_fa49e_row4_col1\" class=\"data row4 col1\" >8578.000000</td>\n",
       "      <td id=\"T_fa49e_row4_col2\" class=\"data row4 col2\" >8715.000000</td>\n",
       "      <td id=\"T_fa49e_row4_col3\" class=\"data row4 col3\" >8906.000000</td>\n",
       "    </tr>\n",
       "    <tr>\n",
       "      <th id=\"T_fa49e_level0_row5\" class=\"row_heading level0 row5\" >6</th>\n",
       "      <td id=\"T_fa49e_row5_col0\" class=\"data row5 col0\" >4188.000000</td>\n",
       "      <td id=\"T_fa49e_row5_col1\" class=\"data row5 col1\" >8558.000000</td>\n",
       "      <td id=\"T_fa49e_row5_col2\" class=\"data row5 col2\" >8985.000000</td>\n",
       "      <td id=\"T_fa49e_row5_col3\" class=\"data row5 col3\" >8834.000000</td>\n",
       "    </tr>\n",
       "    <tr>\n",
       "      <th id=\"T_fa49e_level0_row6\" class=\"row_heading level0 row6\" >7</th>\n",
       "      <td id=\"T_fa49e_row6_col0\" class=\"data row6 col0\" >8322.000000</td>\n",
       "      <td id=\"T_fa49e_row6_col1\" class=\"data row6 col1\" >8618.000000</td>\n",
       "      <td id=\"T_fa49e_row6_col2\" class=\"data row6 col2\" >9075.000000</td>\n",
       "      <td id=\"T_fa49e_row6_col3\" class=\"data row6 col3\" >8538.000000</td>\n",
       "    </tr>\n",
       "    <tr>\n",
       "      <th id=\"T_fa49e_level0_row7\" class=\"row_heading level0 row7\" >8</th>\n",
       "      <td id=\"T_fa49e_row7_col0\" class=\"data row7 col0\" >8340.000000</td>\n",
       "      <td id=\"T_fa49e_row7_col1\" class=\"data row7 col1\" >8938.000000</td>\n",
       "      <td id=\"T_fa49e_row7_col2\" class=\"data row7 col2\" >9206.000000</td>\n",
       "      <td id=\"T_fa49e_row7_col3\" class=\"data row7 col3\" >8337.000000</td>\n",
       "    </tr>\n",
       "    <tr>\n",
       "      <th id=\"T_fa49e_level0_row8\" class=\"row_heading level0 row8\" >9</th>\n",
       "      <td id=\"T_fa49e_row8_col0\" class=\"data row8 col0\" >8411.000000</td>\n",
       "      <td id=\"T_fa49e_row8_col1\" class=\"data row8 col1\" >8521.000000</td>\n",
       "      <td id=\"T_fa49e_row8_col2\" class=\"data row8 col2\" >8940.000000</td>\n",
       "      <td id=\"T_fa49e_row8_col3\" class=\"data row8 col3\" >667.000000</td>\n",
       "    </tr>\n",
       "    <tr>\n",
       "      <th id=\"T_fa49e_level0_row9\" class=\"row_heading level0 row9\" >10</th>\n",
       "      <td id=\"T_fa49e_row9_col0\" class=\"data row9 col0\" >8305.000000</td>\n",
       "      <td id=\"T_fa49e_row9_col1\" class=\"data row9 col1\" >8582.000000</td>\n",
       "      <td id=\"T_fa49e_row9_col2\" class=\"data row9 col2\" >8846.000000</td>\n",
       "      <td id=\"T_fa49e_row9_col3\" class=\"data row9 col3\" >nan</td>\n",
       "    </tr>\n",
       "    <tr>\n",
       "      <th id=\"T_fa49e_level0_row10\" class=\"row_heading level0 row10\" >11</th>\n",
       "      <td id=\"T_fa49e_row10_col0\" class=\"data row10 col0\" >7818.000000</td>\n",
       "      <td id=\"T_fa49e_row10_col1\" class=\"data row10 col1\" >7922.000000</td>\n",
       "      <td id=\"T_fa49e_row10_col2\" class=\"data row10 col2\" >7935.000000</td>\n",
       "      <td id=\"T_fa49e_row10_col3\" class=\"data row10 col3\" >nan</td>\n",
       "    </tr>\n",
       "    <tr>\n",
       "      <th id=\"T_fa49e_level0_row11\" class=\"row_heading level0 row11\" >12</th>\n",
       "      <td id=\"T_fa49e_row11_col0\" class=\"data row11 col0\" >7987.000000</td>\n",
       "      <td id=\"T_fa49e_row11_col1\" class=\"data row11 col1\" >7951.000000</td>\n",
       "      <td id=\"T_fa49e_row11_col2\" class=\"data row11 col2\" >7535.000000</td>\n",
       "      <td id=\"T_fa49e_row11_col3\" class=\"data row11 col3\" >nan</td>\n",
       "    </tr>\n",
       "  </tbody>\n",
       "</table>\n"
      ],
      "text/plain": [
       "<pandas.io.formats.style.Styler at 0x1b2c49b1810>"
      ]
     },
     "execution_count": 176,
     "metadata": {},
     "output_type": "execute_result"
    }
   ],
   "source": [
    "avg_crime=crime.groupby(['YEAR','MONTH']).count()['INCIDENT_NUMBER'].mean()\n",
    "print('The average number of crimes is ' + str(avg_crime))\n",
    "\n",
    "year_and_month = crime.groupby(['MONTH','YEAR']).count()['INCIDENT_NUMBER'].unstack()\n",
    "\n",
    "def style_negative(v,props=''):\n",
    "    return props if v < avg_crime else None\n",
    "s2 = year_and_month.style.applymap(style_negative,props='color:blue;')\\\n",
    "        .applymap(lambda v:'opacity:20%' if(v<0.3)and(v>-0.3)else None)\n",
    "s2"
   ]
  },
  {
   "cell_type": "code",
   "execution_count": 182,
   "id": "d243b27c-dd1f-44c1-9d32-de1aaabebc19",
   "metadata": {},
   "outputs": [
    {
     "data": {
      "text/html": [
       "<style type=\"text/css\">\n",
       "#T_fa49e_row0_col1, #T_fa49e_row0_col3, #T_fa49e_row1_col1, #T_fa49e_row1_col2, #T_fa49e_row1_col3, #T_fa49e_row2_col3, #T_fa49e_row3_col3, #T_fa49e_row5_col0, #T_fa49e_row8_col3, #T_fa49e_row10_col0, #T_fa49e_row10_col1, #T_fa49e_row10_col2, #T_fa49e_row11_col1, #T_fa49e_row11_col2 {\n",
       "  color: blue;\n",
       "}\n",
       "#T_fa49e_row4_col3, #T_fa49e_row7_col1, #T_fa49e_row7_col2, #T_fa49e_row8_col0 {\n",
       "  color: white;\n",
       "  background-color: darkgreen;\n",
       "}\n",
       "</style>\n",
       "<table id=\"T_fa49e\">\n",
       "  <thead>\n",
       "    <tr>\n",
       "      <th class=\"index_name level0\" >YEAR</th>\n",
       "      <th id=\"T_fa49e_level0_col0\" class=\"col_heading level0 col0\" >2015</th>\n",
       "      <th id=\"T_fa49e_level0_col1\" class=\"col_heading level0 col1\" >2016</th>\n",
       "      <th id=\"T_fa49e_level0_col2\" class=\"col_heading level0 col2\" >2017</th>\n",
       "      <th id=\"T_fa49e_level0_col3\" class=\"col_heading level0 col3\" >2018</th>\n",
       "    </tr>\n",
       "    <tr>\n",
       "      <th class=\"index_name level0\" >MONTH</th>\n",
       "      <th class=\"blank col0\" >&nbsp;</th>\n",
       "      <th class=\"blank col1\" >&nbsp;</th>\n",
       "      <th class=\"blank col2\" >&nbsp;</th>\n",
       "      <th class=\"blank col3\" >&nbsp;</th>\n",
       "    </tr>\n",
       "  </thead>\n",
       "  <tbody>\n",
       "    <tr>\n",
       "      <th id=\"T_fa49e_level0_row0\" class=\"row_heading level0 row0\" >1</th>\n",
       "      <td id=\"T_fa49e_row0_col0\" class=\"data row0 col0\" >nan</td>\n",
       "      <td id=\"T_fa49e_row0_col1\" class=\"data row0 col1\" >7835.000000</td>\n",
       "      <td id=\"T_fa49e_row0_col2\" class=\"data row0 col2\" >7991.000000</td>\n",
       "      <td id=\"T_fa49e_row0_col3\" class=\"data row0 col3\" >7782.000000</td>\n",
       "    </tr>\n",
       "    <tr>\n",
       "      <th id=\"T_fa49e_level0_row1\" class=\"row_heading level0 row1\" >2</th>\n",
       "      <td id=\"T_fa49e_row1_col0\" class=\"data row1 col0\" >nan</td>\n",
       "      <td id=\"T_fa49e_row1_col1\" class=\"data row1 col1\" >7307.000000</td>\n",
       "      <td id=\"T_fa49e_row1_col2\" class=\"data row1 col2\" >7408.000000</td>\n",
       "      <td id=\"T_fa49e_row1_col3\" class=\"data row1 col3\" >6937.000000</td>\n",
       "    </tr>\n",
       "    <tr>\n",
       "      <th id=\"T_fa49e_level0_row2\" class=\"row_heading level0 row2\" >3</th>\n",
       "      <td id=\"T_fa49e_row2_col0\" class=\"data row2 col0\" >nan</td>\n",
       "      <td id=\"T_fa49e_row2_col1\" class=\"data row2 col1\" >8199.000000</td>\n",
       "      <td id=\"T_fa49e_row2_col2\" class=\"data row2 col2\" >8179.000000</td>\n",
       "      <td id=\"T_fa49e_row2_col3\" class=\"data row2 col3\" >7768.000000</td>\n",
       "    </tr>\n",
       "    <tr>\n",
       "      <th id=\"T_fa49e_level0_row3\" class=\"row_heading level0 row3\" >4</th>\n",
       "      <td id=\"T_fa49e_row3_col0\" class=\"data row3 col0\" >nan</td>\n",
       "      <td id=\"T_fa49e_row3_col1\" class=\"data row3 col1\" >8101.000000</td>\n",
       "      <td id=\"T_fa49e_row3_col2\" class=\"data row3 col2\" >8069.000000</td>\n",
       "      <td id=\"T_fa49e_row3_col3\" class=\"data row3 col3\" >7916.000000</td>\n",
       "    </tr>\n",
       "    <tr>\n",
       "      <th id=\"T_fa49e_level0_row4\" class=\"row_heading level0 row4\" >5</th>\n",
       "      <td id=\"T_fa49e_row4_col0\" class=\"data row4 col0\" >nan</td>\n",
       "      <td id=\"T_fa49e_row4_col1\" class=\"data row4 col1\" >8578.000000</td>\n",
       "      <td id=\"T_fa49e_row4_col2\" class=\"data row4 col2\" >8715.000000</td>\n",
       "      <td id=\"T_fa49e_row4_col3\" class=\"data row4 col3\" >8906.000000</td>\n",
       "    </tr>\n",
       "    <tr>\n",
       "      <th id=\"T_fa49e_level0_row5\" class=\"row_heading level0 row5\" >6</th>\n",
       "      <td id=\"T_fa49e_row5_col0\" class=\"data row5 col0\" >4188.000000</td>\n",
       "      <td id=\"T_fa49e_row5_col1\" class=\"data row5 col1\" >8558.000000</td>\n",
       "      <td id=\"T_fa49e_row5_col2\" class=\"data row5 col2\" >8985.000000</td>\n",
       "      <td id=\"T_fa49e_row5_col3\" class=\"data row5 col3\" >8834.000000</td>\n",
       "    </tr>\n",
       "    <tr>\n",
       "      <th id=\"T_fa49e_level0_row6\" class=\"row_heading level0 row6\" >7</th>\n",
       "      <td id=\"T_fa49e_row6_col0\" class=\"data row6 col0\" >8322.000000</td>\n",
       "      <td id=\"T_fa49e_row6_col1\" class=\"data row6 col1\" >8618.000000</td>\n",
       "      <td id=\"T_fa49e_row6_col2\" class=\"data row6 col2\" >9075.000000</td>\n",
       "      <td id=\"T_fa49e_row6_col3\" class=\"data row6 col3\" >8538.000000</td>\n",
       "    </tr>\n",
       "    <tr>\n",
       "      <th id=\"T_fa49e_level0_row7\" class=\"row_heading level0 row7\" >8</th>\n",
       "      <td id=\"T_fa49e_row7_col0\" class=\"data row7 col0\" >8340.000000</td>\n",
       "      <td id=\"T_fa49e_row7_col1\" class=\"data row7 col1\" >8938.000000</td>\n",
       "      <td id=\"T_fa49e_row7_col2\" class=\"data row7 col2\" >9206.000000</td>\n",
       "      <td id=\"T_fa49e_row7_col3\" class=\"data row7 col3\" >8337.000000</td>\n",
       "    </tr>\n",
       "    <tr>\n",
       "      <th id=\"T_fa49e_level0_row8\" class=\"row_heading level0 row8\" >9</th>\n",
       "      <td id=\"T_fa49e_row8_col0\" class=\"data row8 col0\" >8411.000000</td>\n",
       "      <td id=\"T_fa49e_row8_col1\" class=\"data row8 col1\" >8521.000000</td>\n",
       "      <td id=\"T_fa49e_row8_col2\" class=\"data row8 col2\" >8940.000000</td>\n",
       "      <td id=\"T_fa49e_row8_col3\" class=\"data row8 col3\" >667.000000</td>\n",
       "    </tr>\n",
       "    <tr>\n",
       "      <th id=\"T_fa49e_level0_row9\" class=\"row_heading level0 row9\" >10</th>\n",
       "      <td id=\"T_fa49e_row9_col0\" class=\"data row9 col0\" >8305.000000</td>\n",
       "      <td id=\"T_fa49e_row9_col1\" class=\"data row9 col1\" >8582.000000</td>\n",
       "      <td id=\"T_fa49e_row9_col2\" class=\"data row9 col2\" >8846.000000</td>\n",
       "      <td id=\"T_fa49e_row9_col3\" class=\"data row9 col3\" >nan</td>\n",
       "    </tr>\n",
       "    <tr>\n",
       "      <th id=\"T_fa49e_level0_row10\" class=\"row_heading level0 row10\" >11</th>\n",
       "      <td id=\"T_fa49e_row10_col0\" class=\"data row10 col0\" >7818.000000</td>\n",
       "      <td id=\"T_fa49e_row10_col1\" class=\"data row10 col1\" >7922.000000</td>\n",
       "      <td id=\"T_fa49e_row10_col2\" class=\"data row10 col2\" >7935.000000</td>\n",
       "      <td id=\"T_fa49e_row10_col3\" class=\"data row10 col3\" >nan</td>\n",
       "    </tr>\n",
       "    <tr>\n",
       "      <th id=\"T_fa49e_level0_row11\" class=\"row_heading level0 row11\" >12</th>\n",
       "      <td id=\"T_fa49e_row11_col0\" class=\"data row11 col0\" >7987.000000</td>\n",
       "      <td id=\"T_fa49e_row11_col1\" class=\"data row11 col1\" >7951.000000</td>\n",
       "      <td id=\"T_fa49e_row11_col2\" class=\"data row11 col2\" >7535.000000</td>\n",
       "      <td id=\"T_fa49e_row11_col3\" class=\"data row11 col3\" >nan</td>\n",
       "    </tr>\n",
       "  </tbody>\n",
       "</table>\n"
      ],
      "text/plain": [
       "<pandas.io.formats.style.Styler at 0x1b2c49b1810>"
      ]
     },
     "execution_count": 182,
     "metadata": {},
     "output_type": "execute_result"
    }
   ],
   "source": [
    "def highlight_max(s,props=''):\n",
    "    return np.where(s==np.nanmax(s.values),props,'')\n",
    "s2.apply(highlight_max,props='color:white;background-color:darkgreen',axis=0)"
   ]
  }
 ],
 "metadata": {
  "kernelspec": {
   "display_name": "Python 3 (ipykernel)",
   "language": "python",
   "name": "python3"
  },
  "language_info": {
   "codemirror_mode": {
    "name": "ipython",
    "version": 3
   },
   "file_extension": ".py",
   "mimetype": "text/x-python",
   "name": "python",
   "nbconvert_exporter": "python",
   "pygments_lexer": "ipython3",
   "version": "3.11.7"
  }
 },
 "nbformat": 4,
 "nbformat_minor": 5
}
